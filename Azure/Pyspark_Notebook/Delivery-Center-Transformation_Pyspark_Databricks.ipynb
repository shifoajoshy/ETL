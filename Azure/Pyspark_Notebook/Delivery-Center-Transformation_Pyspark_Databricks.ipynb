{
 "cells": [
  {
   "cell_type": "code",
   "execution_count": 0,
   "metadata": {
    "application/vnd.databricks.v1+cell": {
     "cellMetadata": {
      "byteLimit": 2048000,
      "rowLimit": 10000
     },
     "inputWidgets": {},
     "nuid": "8d8ccb58-e633-488b-a536-48b89ff34ffc",
     "showTitle": false,
     "title": ""
    }
   },
   "outputs": [
    {
     "name": "stdout",
     "output_type": "stream",
     "text": [
      "Directory already mounted.\n"
     ]
    }
   ],
   "source": [
    "# Check if the directory is already mounted\n",
    "mount_points = [mount.mountPoint for mount in dbutils.fs.mounts()]\n",
    "\n",
    "if \"/mnt/deliverycenterm\" not in mount_points:\n",
    "    # Mount the directory with the provided configurations\n",
    "    configs = {\n",
    "        \"fs.azure.account.auth.type\": \"OAuth\",\n",
    "        \"fs.azure.account.oauth.provider.type\": \"org.apache.hadoop.fs.azurebfs.oauth2.ClientCredsTokenProvider\",\n",
    "        \"fs.azure.account.oauth2.client.id\": \"\",\n",
    "        \"fs.azure.account.oauth2.client.secret\": '',\n",
    "        \"fs.azure.account.oauth2.client.endpoint\": \"https://login.microsoftonline.com//oauth2/token\"\n",
    "    }\n",
    "\n",
    "    dbutils.fs.mount(\n",
    "        source=\"abfss://@.dfs.core.windows.net\", \n",
    "        mount_point=\"/mnt/deliverycenterm\", \n",
    "        extra_configs=configs\n",
    "    )\n",
    "else:\n",
    "    print(\"Directory already mounted.\")\n"
   ]
  },
  {
   "cell_type": "code",
   "execution_count": 0,
   "metadata": {
    "application/vnd.databricks.v1+cell": {
     "cellMetadata": {
      "byteLimit": 2048000,
      "rowLimit": 10000
     },
     "inputWidgets": {},
     "nuid": "7ddfaa03-3164-4f0e-a775-3ef0537c686e",
     "showTitle": false,
     "title": ""
    }
   },
   "outputs": [
    {
     "data": {
      "text/html": [
       "\n",
       "            <div>\n",
       "                <p><b>SparkSession - hive</b></p>\n",
       "                \n",
       "        <div>\n",
       "            <p><b>SparkContext</b></p>\n",
       "\n",
       "            <p><a href=\"/?o=3871304509631495#setting/sparkui/0501-091010-sknc5slf/driver-2604422536505036476\">Spark UI</a></p>\n",
       "\n",
       "            <dl>\n",
       "              <dt>Version</dt>\n",
       "                <dd><code>v3.3.2</code></dd>\n",
       "              <dt>Master</dt>\n",
       "                <dd><code>local[*, 4]</code></dd>\n",
       "              <dt>AppName</dt>\n",
       "                <dd><code>Databricks Shell</code></dd>\n",
       "            </dl>\n",
       "        </div>\n",
       "        \n",
       "            </div>\n",
       "        "
      ]
     },
     "metadata": {
      "application/vnd.databricks.v1+output": {
       "addedWidgets": {},
       "arguments": {},
       "data": "\n            <div>\n                <p><b>SparkSession - hive</b></p>\n                \n        <div>\n            <p><b>SparkContext</b></p>\n\n            <p><a href=\"/?o=3871304509631495#setting/sparkui/0501-091010-sknc5slf/driver-2604422536505036476\">Spark UI</a></p>\n\n            <dl>\n              <dt>Version</dt>\n                <dd><code>v3.3.2</code></dd>\n              <dt>Master</dt>\n                <dd><code>local[*, 4]</code></dd>\n              <dt>AppName</dt>\n                <dd><code>Databricks Shell</code></dd>\n            </dl>\n        </div>\n        \n            </div>\n        ",
       "datasetInfos": [],
       "metadata": {},
       "removedWidgets": [],
       "textData": null,
       "type": "htmlSandbox"
      }
     },
     "output_type": "display_data"
    }
   ],
   "source": [
    "spark"
   ]
  },
  {
   "cell_type": "code",
   "execution_count": 0,
   "metadata": {
    "application/vnd.databricks.v1+cell": {
     "cellMetadata": {
      "byteLimit": 2048000,
      "rowLimit": 10000
     },
     "inputWidgets": {},
     "nuid": "5da57d9d-515d-4d44-8e1f-e0d3944ea7df",
     "showTitle": false,
     "title": ""
    }
   },
   "outputs": [
    {
     "data": {
      "text/html": [
       "<style scoped>\n",
       "  .table-result-container {\n",
       "    max-height: 300px;\n",
       "    overflow: auto;\n",
       "  }\n",
       "  table, th, td {\n",
       "    border: 1px solid black;\n",
       "    border-collapse: collapse;\n",
       "  }\n",
       "  th, td {\n",
       "    padding: 5px;\n",
       "  }\n",
       "  th {\n",
       "    text-align: left;\n",
       "  }\n",
       "</style><div class='table-result-container'><table class='table-result'><thead style='background-color: white'><tr><th>path</th><th>name</th><th>size</th><th>modificationTime</th></tr></thead><tbody><tr><td>dbfs:/mnt/deliverycenterm/raw-data/</td><td>raw-data/</td><td>0</td><td>1714540655000</td></tr><tr><td>dbfs:/mnt/deliverycenterm/transformed-data/</td><td>transformed-data/</td><td>0</td><td>1714540665000</td></tr></tbody></table></div>"
      ]
     },
     "metadata": {
      "application/vnd.databricks.v1+output": {
       "addedWidgets": {},
       "aggData": [],
       "aggError": "",
       "aggOverflow": false,
       "aggSchema": [],
       "aggSeriesLimitReached": false,
       "aggType": "",
       "arguments": {},
       "columnCustomDisplayInfos": {},
       "data": [
        [
         "dbfs:/mnt/deliverycenterm/raw-data/",
         "raw-data/",
         0,
         1714540655000
        ],
        [
         "dbfs:/mnt/deliverycenterm/transformed-data/",
         "transformed-data/",
         0,
         1714540665000
        ]
       ],
       "datasetInfos": [],
       "dbfsResultPath": null,
       "isJsonSchema": true,
       "metadata": {
        "isDbfsCommandResult": false
       },
       "overflow": false,
       "plotOptions": {
        "customPlotOptions": {},
        "displayType": "table",
        "pivotAggregation": null,
        "pivotColumns": null,
        "xColumns": null,
        "yColumns": null
       },
       "removedWidgets": [],
       "schema": [
        {
         "metadata": "{}",
         "name": "path",
         "type": "\"string\""
        },
        {
         "metadata": "{}",
         "name": "name",
         "type": "\"string\""
        },
        {
         "metadata": "{}",
         "name": "size",
         "type": "\"long\""
        },
        {
         "metadata": "{}",
         "name": "modificationTime",
         "type": "\"long\""
        }
       ],
       "type": "table"
      }
     },
     "output_type": "display_data"
    }
   ],
   "source": [
    "%fs\n",
    "ls \"/mnt/deliverycenterm\""
   ]
  },
  {
   "cell_type": "code",
   "execution_count": 0,
   "metadata": {
    "application/vnd.databricks.v1+cell": {
     "cellMetadata": {
      "byteLimit": 2048000,
      "rowLimit": 10000
     },
     "inputWidgets": {},
     "nuid": "59ad62db-efc6-4b9f-862d-d99a0a73ada0",
     "showTitle": false,
     "title": ""
    }
   },
   "outputs": [],
   "source": [
    "from pyspark.sql.functions import col,regexp_replace,to_date, to_timestamp,expr,unix_timestamp\n",
    "from pyspark.sql.types import IntegerType, DoubleType, BooleanType, DateType, TimestampType\n",
    "from pyspark.sql import DataFrame"
   ]
  },
  {
   "cell_type": "code",
   "execution_count": 0,
   "metadata": {
    "application/vnd.databricks.v1+cell": {
     "cellMetadata": {
      "byteLimit": 2048000,
      "rowLimit": 10000
     },
     "inputWidgets": {},
     "nuid": "0ea615fb-764f-44ad-89be-0dfc5c35d781",
     "showTitle": false,
     "title": ""
    }
   },
   "outputs": [],
   "source": [
    "channels = spark.read.format(\"csv\").option(\"header\",\"true\").option(\"inferSchema\",\"true\").load(\"/mnt/deliverycenterm/raw-data/channels.csv\")\n",
    "deliveries = spark.read.format(\"csv\").option(\"header\",\"true\").option(\"inferSchema\",\"true\").load(\"/mnt/deliverycenterm/raw-data/deliveries.csv\")\n",
    "drivers = spark.read.format(\"csv\").option(\"header\",\"true\").option(\"inferSchema\",\"true\").load(\"/mnt/deliverycenterm/raw-data/drivers.csv\")\n",
    "hubs = spark.read.format(\"csv\").option(\"header\",\"true\").option(\"inferSchema\",\"true\").load(\"/mnt/deliverycenterm/raw-data/hubs.csv\")\n",
    "orders = spark.read.format(\"csv\").option(\"header\",\"true\").option(\"inferSchema\",\"true\").load(\"/mnt/deliverycenterm/raw-data/orders.csv\")\n",
    "payments = spark.read.format(\"csv\").option(\"header\",\"true\").option(\"inferSchema\",\"true\").load(\"/mnt/deliverycenterm/raw-data/payments.csv\")\n",
    "stores = spark.read.format(\"csv\").option(\"header\",\"true\").option(\"inferSchema\",\"true\").load(\"/mnt/deliverycenterm/raw-data/stores.csv\")"
   ]
  },
  {
   "cell_type": "code",
   "execution_count": 0,
   "metadata": {
    "application/vnd.databricks.v1+cell": {
     "cellMetadata": {
      "byteLimit": 2048000,
      "rowLimit": 10000
     },
     "inputWidgets": {},
     "nuid": "44914947-1cc8-4a87-a912-fd62b4afb289",
     "showTitle": false,
     "title": ""
    }
   },
   "outputs": [
    {
     "name": "stdout",
     "output_type": "stream",
     "text": [
      "+----------+--------------+------------+\n",
      "|channel_id|  channel_name|channel_type|\n",
      "+----------+--------------+------------+\n",
      "|         1|   OTHER PLACE| OWN CHANNEL|\n",
      "|         2|   PHONE PLACE| OWN CHANNEL|\n",
      "|         3|   WHATS PLACE| OWN CHANNEL|\n",
      "|         4|    FACE PLACE| OWN CHANNEL|\n",
      "|         5|    FOOD PLACE| MARKETPLACE|\n",
      "|         6|   STORE PLACE| OWN CHANNEL|\n",
      "|         7|  BERLIN PLACE| OWN CHANNEL|\n",
      "|         8|  MADRID PLACE| OWN CHANNEL|\n",
      "|         9|   THINK PLACE| OWN CHANNEL|\n",
      "|        10|  LISBON PLACE| OWN CHANNEL|\n",
      "|        11|   SUPER PLACE| OWN CHANNEL|\n",
      "|        12|     ALL PLACE| MARKETPLACE|\n",
      "|        13|VELOCITY PLACE| MARKETPLACE|\n",
      "|        15|    EATS PLACE| MARKETPLACE|\n",
      "|        17|   SHOPP PLACE| MARKETPLACE|\n",
      "|        20|  MUNICH PLACE| MARKETPLACE|\n",
      "|        21|  LONDON PLACE| MARKETPLACE|\n",
      "|        23|  ATCHIN PLACE| MARKETPLACE|\n",
      "|        24|    FULL PLACE| MARKETPLACE|\n",
      "|        25|      ON PLACE| MARKETPLACE|\n",
      "+----------+--------------+------------+\n",
      "only showing top 20 rows\n",
      "\n"
     ]
    }
   ],
   "source": [
    "channels.show()"
   ]
  },
  {
   "cell_type": "code",
   "execution_count": 0,
   "metadata": {
    "application/vnd.databricks.v1+cell": {
     "cellMetadata": {
      "byteLimit": 2048000,
      "rowLimit": 10000
     },
     "inputWidgets": {},
     "nuid": "f9c55e7a-94cb-4c56-9671-89a41d1b78ae",
     "showTitle": false,
     "title": ""
    }
   },
   "outputs": [
    {
     "name": "stdout",
     "output_type": "stream",
     "text": [
      "root\n",
      " |-- channel_id: integer (nullable = true)\n",
      " |-- channel_name: string (nullable = true)\n",
      " |-- channel_type: string (nullable = true)\n",
      "\n"
     ]
    }
   ],
   "source": [
    "channels.printSchema()"
   ]
  },
  {
   "cell_type": "code",
   "execution_count": 0,
   "metadata": {
    "application/vnd.databricks.v1+cell": {
     "cellMetadata": {
      "byteLimit": 2048000,
      "rowLimit": 10000
     },
     "inputWidgets": {},
     "nuid": "6d118a98-1218-41e1-8df2-3e3b6085a109",
     "showTitle": false,
     "title": ""
    }
   },
   "outputs": [],
   "source": [
    "# Function to check for null values in each column of the DataFrame\n",
    "def count_nulls(df: DataFrame):\n",
    "    # Check for null values in each column of the DataFrame\n",
    "    null_counts = df.select([col(column).isNull().cast(\"int\").alias(column) for column in df.columns])\n",
    "\n",
    "    # Sum the null counts for each column\n",
    "    null_counts_dict = {col_name: null_counts.selectExpr(f\"sum(`{col_name}`) as count\").first().asDict()[\"count\"] for col_name in df.columns}\n",
    "\n",
    "    # Print the null counts for each column\n",
    "    for column, count in null_counts_dict.items():\n",
    "        print(f\"Null count in {column}: {count}\")\n",
    "\n",
    "\n"
   ]
  },
  {
   "cell_type": "code",
   "execution_count": 0,
   "metadata": {
    "application/vnd.databricks.v1+cell": {
     "cellMetadata": {
      "byteLimit": 2048000,
      "rowLimit": 10000
     },
     "inputWidgets": {},
     "nuid": "79aac08d-00dd-482e-96a6-7e58ce493dea",
     "showTitle": false,
     "title": ""
    }
   },
   "outputs": [],
   "source": [
    "#function to count rows of dataframe\n",
    "def count_rows(df: DataFrame):\n",
    "    \"\"\"\n",
    "    Counts the number of rows in the given DataFrame and prints the count.\n",
    "    \n",
    "    Args:\n",
    "        df (DataFrame): The PySpark DataFrame to count rows for.\n",
    "    \"\"\"\n",
    "    row_count = df.count()\n",
    "    print(\"Number of rows in the DataFrame:\", row_count)"
   ]
  },
  {
   "cell_type": "code",
   "execution_count": 0,
   "metadata": {
    "application/vnd.databricks.v1+cell": {
     "cellMetadata": {
      "byteLimit": 2048000,
      "rowLimit": 10000
     },
     "inputWidgets": {},
     "nuid": "a78a66f7-9b75-4fd9-bfb1-d2b2c3e2ec1f",
     "showTitle": false,
     "title": ""
    }
   },
   "outputs": [],
   "source": [
    "#function to remove rows when null consist in a specified column\n",
    "def remove_rows_with_null(df: DataFrame, column_name: str):\n",
    "    \"\"\"\n",
    "    Removes rows from the given DataFrame where the specified column contains null values.\n",
    "    \n",
    "    Args:\n",
    "        df (DataFrame): The PySpark DataFrame to remove rows from.\n",
    "        column_name (str): The name of the column to check for null values.\n",
    "        \n",
    "    Returns:\n",
    "        DataFrame: The DataFrame with rows removed where the specified column contains null values.\n",
    "    \"\"\"\n",
    "    return df.filter(df[column_name].isNotNull())"
   ]
  },
  {
   "cell_type": "code",
   "execution_count": 0,
   "metadata": {
    "application/vnd.databricks.v1+cell": {
     "cellMetadata": {
      "byteLimit": 2048000,
      "rowLimit": 10000
     },
     "inputWidgets": {},
     "nuid": "6889fd7b-b3c2-4f8a-8544-4a98e185a702",
     "showTitle": false,
     "title": ""
    }
   },
   "outputs": [
    {
     "name": "stdout",
     "output_type": "stream",
     "text": [
      "Null count in channel_id: 0\n",
      "Null count in channel_name: 0\n",
      "Null count in channel_type: 0\n"
     ]
    }
   ],
   "source": [
    "count_nulls(channels)"
   ]
  },
  {
   "cell_type": "code",
   "execution_count": 0,
   "metadata": {
    "application/vnd.databricks.v1+cell": {
     "cellMetadata": {
      "byteLimit": 2048000,
      "rowLimit": 10000
     },
     "inputWidgets": {},
     "nuid": "be162fe2-54f1-4885-8d71-979ac1ccabff",
     "showTitle": false,
     "title": ""
    }
   },
   "outputs": [
    {
     "name": "stdout",
     "output_type": "stream",
     "text": [
      "+-----------+-----------------+---------+------------------------+---------------+\n",
      "|delivery_id|delivery_order_id|driver_id|delivery_distance_meters|delivery_status|\n",
      "+-----------+-----------------+---------+------------------------+---------------+\n",
      "|    2174658|         68413340|     8378|                    5199|      DELIVERED|\n",
      "|    2174660|         68414309|     2473|                     410|      DELIVERED|\n",
      "|    2174661|         68416230|     7615|                    3784|      DELIVERED|\n",
      "|    2174663|         68412721|     8378|                    5714|      DELIVERED|\n",
      "|    2174675|         68414018|    10463|                    3746|      DELIVERED|\n",
      "|    2174680|         68415103|    16430|                    3924|      DELIVERED|\n",
      "|    2174693|         68416643|    14513|                    2489|      DELIVERED|\n",
      "|    2174695|         68417783|     null|                    2564|      CANCELLED|\n",
      "|    2174696|         68415457|     9996|                     340|      DELIVERED|\n",
      "|    2174697|         68414563|    23092|                    1081|      DELIVERED|\n",
      "|    2174699|         68415140|     9996|                    2880|      DELIVERED|\n",
      "|    2174705|         68416059|     9996|                    1450|      DELIVERED|\n",
      "|    2174707|         68417307|    25575|                    1699|      DELIVERED|\n",
      "|    2174708|         68416059|     9996|                    1450|      DELIVERED|\n",
      "|    2174712|         68415947|     9392|                    5951|      DELIVERED|\n",
      "|    2174713|         68416226|    15156|                    2353|      DELIVERED|\n",
      "|    2174715|         68417646|    29669|                    1014|      DELIVERED|\n",
      "|    2174720|         68416227|    10514|                    5796|      DELIVERED|\n",
      "|    2174724|         68416397|     7396|                    4425|      DELIVERED|\n",
      "|    2174729|         68418089|    14702|                    2007|      DELIVERED|\n",
      "+-----------+-----------------+---------+------------------------+---------------+\n",
      "only showing top 20 rows\n",
      "\n"
     ]
    }
   ],
   "source": [
    "deliveries.show()"
   ]
  },
  {
   "cell_type": "code",
   "execution_count": 0,
   "metadata": {
    "application/vnd.databricks.v1+cell": {
     "cellMetadata": {
      "byteLimit": 2048000,
      "rowLimit": 10000
     },
     "inputWidgets": {},
     "nuid": "93083b63-fb5d-4a33-821f-f1d18be01cb5",
     "showTitle": false,
     "title": ""
    }
   },
   "outputs": [
    {
     "name": "stdout",
     "output_type": "stream",
     "text": [
      "root\n",
      " |-- delivery_id: integer (nullable = true)\n",
      " |-- delivery_order_id: integer (nullable = true)\n",
      " |-- driver_id: integer (nullable = true)\n",
      " |-- delivery_distance_meters: integer (nullable = true)\n",
      " |-- delivery_status: string (nullable = true)\n",
      "\n"
     ]
    }
   ],
   "source": [
    "deliveries.printSchema()"
   ]
  },
  {
   "cell_type": "code",
   "execution_count": 0,
   "metadata": {
    "application/vnd.databricks.v1+cell": {
     "cellMetadata": {
      "byteLimit": 2048000,
      "rowLimit": 10000
     },
     "inputWidgets": {},
     "nuid": "8b8291cc-7b28-4b5b-8fad-fa2a4a1ceea1",
     "showTitle": false,
     "title": ""
    }
   },
   "outputs": [
    {
     "name": "stdout",
     "output_type": "stream",
     "text": [
      "Null count in delivery_id: 0\n",
      "Null count in delivery_order_id: 0\n",
      "Null count in driver_id: 15886\n",
      "Null count in delivery_distance_meters: 73\n",
      "Null count in delivery_status: 0\n",
      "Number of rows in the DataFrame: 378843\n"
     ]
    }
   ],
   "source": [
    "count_nulls(deliveries)\n",
    "count_rows(deliveries)"
   ]
  },
  {
   "cell_type": "code",
   "execution_count": 0,
   "metadata": {
    "application/vnd.databricks.v1+cell": {
     "cellMetadata": {
      "byteLimit": 2048000,
      "rowLimit": 10000
     },
     "inputWidgets": {},
     "nuid": "65f72b0c-fa76-4428-b8aa-7ddc9bf1ba45",
     "showTitle": false,
     "title": ""
    }
   },
   "outputs": [
    {
     "name": "stdout",
     "output_type": "stream",
     "text": [
      "Null count in delivery_id: 0\n",
      "Null count in delivery_order_id: 0\n",
      "Null count in driver_id: 0\n",
      "Null count in delivery_distance_meters: 29\n",
      "Null count in delivery_status: 0\n",
      "Number of rows in the DataFrame: 362957\n"
     ]
    }
   ],
   "source": [
    "deliveries = remove_rows_with_null(deliveries, \"driver_id\")\n",
    "count_nulls(deliveries)\n",
    "count_rows(deliveries)"
   ]
  },
  {
   "cell_type": "code",
   "execution_count": 0,
   "metadata": {
    "application/vnd.databricks.v1+cell": {
     "cellMetadata": {
      "byteLimit": 2048000,
      "rowLimit": 10000
     },
     "inputWidgets": {},
     "nuid": "c3aeef39-0bf9-4495-be0d-ba229100da37",
     "showTitle": false,
     "title": ""
    }
   },
   "outputs": [
    {
     "name": "stdout",
     "output_type": "stream",
     "text": [
      "Null count in delivery_id: 0\n",
      "Null count in delivery_order_id: 0\n",
      "Null count in driver_id: 0\n",
      "Null count in delivery_distance_meters: 0\n",
      "Null count in delivery_status: 0\n",
      "Number of rows in the DataFrame: 362928\n"
     ]
    }
   ],
   "source": [
    "deliveries = remove_rows_with_null(deliveries, \"delivery_distance_meters\")\n",
    "count_nulls(deliveries)\n",
    "count_rows(deliveries)"
   ]
  },
  {
   "cell_type": "code",
   "execution_count": 0,
   "metadata": {
    "application/vnd.databricks.v1+cell": {
     "cellMetadata": {
      "byteLimit": 2048000,
      "rowLimit": 10000
     },
     "inputWidgets": {},
     "nuid": "93ea3a1a-e6f5-43cb-bd27-e0b090e3c035",
     "showTitle": false,
     "title": ""
    }
   },
   "outputs": [
    {
     "name": "stdout",
     "output_type": "stream",
     "text": [
      "+---------+------------+-----------------+\n",
      "|driver_id|driver_modal|      driver_type|\n",
      "+---------+------------+-----------------+\n",
      "|      133|     MOTOBOY|LOGISTIC OPERATOR|\n",
      "|      138|     MOTOBOY|        FREELANCE|\n",
      "|      140|     MOTOBOY|        FREELANCE|\n",
      "|      143|       BIKER|        FREELANCE|\n",
      "|      148|     MOTOBOY|        FREELANCE|\n",
      "|      165|     MOTOBOY|        FREELANCE|\n",
      "|      172|     MOTOBOY|        FREELANCE|\n",
      "|      174|       BIKER|        FREELANCE|\n",
      "|      187|       BIKER|        FREELANCE|\n",
      "|      196|       BIKER|        FREELANCE|\n",
      "|      202|       BIKER|        FREELANCE|\n",
      "|      210|     MOTOBOY|        FREELANCE|\n",
      "|      217|     MOTOBOY|LOGISTIC OPERATOR|\n",
      "|      223|     MOTOBOY|        FREELANCE|\n",
      "|      224|       BIKER|        FREELANCE|\n",
      "|      225|     MOTOBOY|LOGISTIC OPERATOR|\n",
      "|      228|     MOTOBOY|        FREELANCE|\n",
      "|      231|     MOTOBOY|LOGISTIC OPERATOR|\n",
      "|      243|     MOTOBOY|LOGISTIC OPERATOR|\n",
      "|      245|     MOTOBOY|        FREELANCE|\n",
      "+---------+------------+-----------------+\n",
      "only showing top 20 rows\n",
      "\n"
     ]
    }
   ],
   "source": [
    "drivers.show()"
   ]
  },
  {
   "cell_type": "code",
   "execution_count": 0,
   "metadata": {
    "application/vnd.databricks.v1+cell": {
     "cellMetadata": {
      "byteLimit": 2048000,
      "rowLimit": 10000
     },
     "inputWidgets": {},
     "nuid": "d42bdd0a-7c8a-4e73-8b7c-1ff65aa0a2c6",
     "showTitle": false,
     "title": ""
    }
   },
   "outputs": [
    {
     "name": "stdout",
     "output_type": "stream",
     "text": [
      "root\n",
      " |-- driver_id: integer (nullable = true)\n",
      " |-- driver_modal: string (nullable = true)\n",
      " |-- driver_type: string (nullable = true)\n",
      "\n"
     ]
    }
   ],
   "source": [
    "drivers.printSchema()"
   ]
  },
  {
   "cell_type": "code",
   "execution_count": 0,
   "metadata": {
    "application/vnd.databricks.v1+cell": {
     "cellMetadata": {
      "byteLimit": 2048000,
      "rowLimit": 10000
     },
     "inputWidgets": {},
     "nuid": "08f523f5-db88-4394-81ab-5dcf45bfb66d",
     "showTitle": false,
     "title": ""
    }
   },
   "outputs": [
    {
     "name": "stdout",
     "output_type": "stream",
     "text": [
      "Null count in driver_id: 0\n",
      "Null count in driver_modal: 0\n",
      "Null count in driver_type: 0\n",
      "Number of rows in the DataFrame: 4824\n"
     ]
    }
   ],
   "source": [
    "count_nulls(drivers)\n",
    "count_rows(drivers)"
   ]
  },
  {
   "cell_type": "code",
   "execution_count": 0,
   "metadata": {
    "application/vnd.databricks.v1+cell": {
     "cellMetadata": {
      "byteLimit": 2048000,
      "rowLimit": 10000
     },
     "inputWidgets": {},
     "nuid": "599338fd-673d-45d4-a140-18c4edd83256",
     "showTitle": false,
     "title": ""
    }
   },
   "outputs": [
    {
     "name": "stdout",
     "output_type": "stream",
     "text": [
      "+------+----------------+--------------+---------+------------+-------------+\n",
      "|hub_id|        hub_name|      hub_city|hub_state|hub_latitude|hub_longitude|\n",
      "+------+----------------+--------------+---------+------------+-------------+\n",
      "|     2|   BLUE SHOPPING|  PORTO ALEGRE|       RS| -30.0474148|    -51.21351|\n",
      "|     3|  GREEN SHOPPING|  PORTO ALEGRE|       RS| -30.0374149|    -51.20352|\n",
      "|     4|    RED SHOPPING|  PORTO ALEGRE|       RS| -30.0219481|  -51.2083816|\n",
      "|     5|   FUNK SHOPPING|RIO DE JANEIRO|       RJ| -23.0007498|   -43.318282|\n",
      "|     8| GOLDEN SHOPPING|RIO DE JANEIRO|       RJ|  -22.921475|   -43.234774|\n",
      "|    13|HIP HOP SHOPPING|RIO DE JANEIRO|       RJ| -22.8858199|  -43.2792183|\n",
      "|    16| PEOPLE SHOPPING|RIO DE JANEIRO|       RJ| -23.0174723|  -43.4799389|\n",
      "|    17|  SMALL SHOPPING|     S�O PAULO|       SP| -23.5920041|  -46.6365035|\n",
      "|    18|   STAR SHOPPING|RIO DE JANEIRO|       RJ| -22.9454948|  -43.1821807|\n",
      "|    20| PURPLE SHOPPING|RIO DE JANEIRO|       RJ|  -22.996848|   -43.359636|\n",
      "|    21|   WOLF SHOPPING|     S�O PAULO|       SP|  -23.550407|  -46.6973162|\n",
      "|    22|  COLOR SHOPPING|RIO DE JANEIRO|       RJ| -23.0007532|  -43.3837713|\n",
      "|    25| AVENUE SHOPPING|     S�O PAULO|       SP| -23.5677027|   -46.642043|\n",
      "|    26|    SQL SHOPPING|     S�O PAULO|       SP| -23.5630195|   -46.652621|\n",
      "|    27|  SAMPA SHOPPING|     S�O PAULO|       SP|  -23.622995|   -46.699204|\n",
      "|    28|    RAP SHOPPING|     S�O PAULO|       SP|  -23.595001|   -46.685984|\n",
      "|    29| SUBWAY SHOPPING|     S�O PAULO|       SP|  -23.561053|   -46.558976|\n",
      "|    31| PAGODE SHOPPING|     S�O PAULO|       SP|  -23.629826|   -46.735203|\n",
      "|    33| COFFEE SHOPPING|     S�O PAULO|       SP|  -23.579067|    -46.59282|\n",
      "|    35|  BEACH SHOPPING|RIO DE JANEIRO|       RJ|   -22.96988|   -43.370811|\n",
      "+------+----------------+--------------+---------+------------+-------------+\n",
      "only showing top 20 rows\n",
      "\n"
     ]
    }
   ],
   "source": [
    "hubs.show()"
   ]
  },
  {
   "cell_type": "code",
   "execution_count": 0,
   "metadata": {
    "application/vnd.databricks.v1+cell": {
     "cellMetadata": {
      "byteLimit": 2048000,
      "rowLimit": 10000
     },
     "inputWidgets": {},
     "nuid": "20b6b8fa-0edc-4070-869b-8b26d5711eee",
     "showTitle": false,
     "title": ""
    }
   },
   "outputs": [
    {
     "name": "stdout",
     "output_type": "stream",
     "text": [
      "root\n",
      " |-- hub_id: integer (nullable = true)\n",
      " |-- hub_name: string (nullable = true)\n",
      " |-- hub_city: string (nullable = true)\n",
      " |-- hub_state: string (nullable = true)\n",
      " |-- hub_latitude: double (nullable = true)\n",
      " |-- hub_longitude: double (nullable = true)\n",
      "\n"
     ]
    }
   ],
   "source": [
    "hubs.printSchema()"
   ]
  },
  {
   "cell_type": "code",
   "execution_count": 0,
   "metadata": {
    "application/vnd.databricks.v1+cell": {
     "cellMetadata": {
      "byteLimit": 2048000,
      "rowLimit": 10000
     },
     "inputWidgets": {},
     "nuid": "205595e0-4807-4ecd-a4b8-6ffdded8eec8",
     "showTitle": false,
     "title": ""
    }
   },
   "outputs": [
    {
     "name": "stdout",
     "output_type": "stream",
     "text": [
      "+------+----------------+--------------+---------+------------+-------------+\n",
      "|hub_id|        hub_name|      hub_city|hub_state|hub_latitude|hub_longitude|\n",
      "+------+----------------+--------------+---------+------------+-------------+\n",
      "|     2|   BLUE SHOPPING|  PORTO ALEGRE|       RS| -30.0474148|    -51.21351|\n",
      "|     3|  GREEN SHOPPING|  PORTO ALEGRE|       RS| -30.0374149|    -51.20352|\n",
      "|     4|    RED SHOPPING|  PORTO ALEGRE|       RS| -30.0219481|  -51.2083816|\n",
      "|     5|   FUNK SHOPPING|RIO DE JANEIRO|       RJ| -23.0007498|   -43.318282|\n",
      "|     8| GOLDEN SHOPPING|RIO DE JANEIRO|       RJ|  -22.921475|   -43.234774|\n",
      "|    13|HIP HOP SHOPPING|RIO DE JANEIRO|       RJ| -22.8858199|  -43.2792183|\n",
      "|    16| PEOPLE SHOPPING|RIO DE JANEIRO|       RJ| -23.0174723|  -43.4799389|\n",
      "|    17|  SMALL SHOPPING|     SAO PAULO|       SP| -23.5920041|  -46.6365035|\n",
      "|    18|   STAR SHOPPING|RIO DE JANEIRO|       RJ| -22.9454948|  -43.1821807|\n",
      "|    20| PURPLE SHOPPING|RIO DE JANEIRO|       RJ|  -22.996848|   -43.359636|\n",
      "|    21|   WOLF SHOPPING|     SAO PAULO|       SP|  -23.550407|  -46.6973162|\n",
      "|    22|  COLOR SHOPPING|RIO DE JANEIRO|       RJ| -23.0007532|  -43.3837713|\n",
      "|    25| AVENUE SHOPPING|     SAO PAULO|       SP| -23.5677027|   -46.642043|\n",
      "|    26|    SQL SHOPPING|     SAO PAULO|       SP| -23.5630195|   -46.652621|\n",
      "|    27|  SAMPA SHOPPING|     SAO PAULO|       SP|  -23.622995|   -46.699204|\n",
      "|    28|    RAP SHOPPING|     SAO PAULO|       SP|  -23.595001|   -46.685984|\n",
      "|    29| SUBWAY SHOPPING|     SAO PAULO|       SP|  -23.561053|   -46.558976|\n",
      "|    31| PAGODE SHOPPING|     SAO PAULO|       SP|  -23.629826|   -46.735203|\n",
      "|    33| COFFEE SHOPPING|     SAO PAULO|       SP|  -23.579067|    -46.59282|\n",
      "|    35|  BEACH SHOPPING|RIO DE JANEIRO|       RJ|   -22.96988|   -43.370811|\n",
      "+------+----------------+--------------+---------+------------+-------------+\n",
      "only showing top 20 rows\n",
      "\n"
     ]
    }
   ],
   "source": [
    "\n",
    "# Assuming 'spark' is your SparkSession and 'hubs' is your DataFrame\n",
    "# Replace 'spark' and 'hubs' with your actual SparkSession and DataFrame names\n",
    "\n",
    "# Replace 'Ã' with 'A' in 'hub_city' column for the word 'SÃO PAULO'\n",
    "hubs = hubs.withColumn('hub_city', regexp_replace('hub_city', '�', 'A').alias('hub_city'))\n",
    "\n",
    "# Show the resulting DataFrame\n",
    "hubs.show()\n"
   ]
  },
  {
   "cell_type": "code",
   "execution_count": 0,
   "metadata": {
    "application/vnd.databricks.v1+cell": {
     "cellMetadata": {
      "byteLimit": 2048000,
      "rowLimit": 10000
     },
     "inputWidgets": {},
     "nuid": "37d06111-9593-4bca-9cce-726e08aca699",
     "showTitle": false,
     "title": ""
    }
   },
   "outputs": [
    {
     "name": "stdout",
     "output_type": "stream",
     "text": [
      "Null count in hub_id: 0\n",
      "Null count in hub_name: 0\n",
      "Null count in hub_city: 0\n",
      "Null count in hub_state: 0\n",
      "Null count in hub_latitude: 0\n",
      "Null count in hub_longitude: 0\n",
      "Number of rows in the DataFrame: 32\n"
     ]
    }
   ],
   "source": [
    "count_nulls(hubs)\n",
    "count_rows(hubs)"
   ]
  },
  {
   "cell_type": "code",
   "execution_count": 0,
   "metadata": {
    "application/vnd.databricks.v1+cell": {
     "cellMetadata": {
      "byteLimit": 2048000,
      "rowLimit": 10000
     },
     "inputWidgets": {},
     "nuid": "2fee9d05-6fa0-4430-a2a3-f7ecd9562be5",
     "showTitle": false,
     "title": ""
    }
   },
   "outputs": [
    {
     "name": "stdout",
     "output_type": "stream",
     "text": [
      "+----------+----------------+--------------+-----------+--------------+--------------+\n",
      "|payment_id|payment_order_id|payment_amount|payment_fee|payment_method|payment_status|\n",
      "+----------+----------------+--------------+-----------+--------------+--------------+\n",
      "|   4427917|        68410055|        118.44|        0.0|       VOUCHER|          PAID|\n",
      "|   4427918|        68410055|        394.81|        7.9|        ONLINE|          PAID|\n",
      "|   4427941|        68412721|        206.95|       5.59|        ONLINE|          PAID|\n",
      "|   4427948|        68413340|          58.8|       1.59|        ONLINE|          PAID|\n",
      "|   4427955|        68414018|          45.8|       0.92|        ONLINE|          PAID|\n",
      "|   4427956|        68414309|         106.8|       2.88|        ONLINE|          PAID|\n",
      "|   4427961|        68414512|          57.8|       1.56|        ONLINE|          PAID|\n",
      "|   4427963|        68414563|          26.9|        0.4|        ONLINE|          PAID|\n",
      "|   4427975|        68415103|         115.5|       3.12|        ONLINE|          PAID|\n",
      "|   4427976|        68415140|         199.3|       5.38|        ONLINE|          PAID|\n",
      "|   4427980|        68415344|          95.3|       2.57|        ONLINE|          PAID|\n",
      "|   4427983|        68415457|         148.7|       4.01|        ONLINE|          PAID|\n",
      "|   4427988|        68415474|         170.2|        4.6|        ONLINE|          PAID|\n",
      "|   4427989|        68415543|          19.9|        0.3|        ONLINE|          PAID|\n",
      "|   4427990|        68415543|           5.0|        0.0|       VOUCHER|          PAID|\n",
      "|   4427997|        68415947|          25.9|       0.52|        ONLINE|          PAID|\n",
      "|   4427999|        68416059|         175.2|       4.73|        ONLINE|          PAID|\n",
      "|   4428001|        68416226|          31.4|       0.63|        ONLINE|          PAID|\n",
      "|   4428002|        68416227|          25.9|       0.52|        ONLINE|          PAID|\n",
      "|   4428003|        68416230|         46.79|        0.7|        ONLINE|          PAID|\n",
      "+----------+----------------+--------------+-----------+--------------+--------------+\n",
      "only showing top 20 rows\n",
      "\n"
     ]
    }
   ],
   "source": [
    "payments.show()"
   ]
  },
  {
   "cell_type": "code",
   "execution_count": 0,
   "metadata": {
    "application/vnd.databricks.v1+cell": {
     "cellMetadata": {
      "byteLimit": 2048000,
      "rowLimit": 10000
     },
     "inputWidgets": {},
     "nuid": "3002eae3-3c61-4316-b94a-e2037f6e120f",
     "showTitle": false,
     "title": ""
    }
   },
   "outputs": [
    {
     "name": "stdout",
     "output_type": "stream",
     "text": [
      "root\n",
      " |-- payment_id: integer (nullable = true)\n",
      " |-- payment_order_id: integer (nullable = true)\n",
      " |-- payment_amount: double (nullable = true)\n",
      " |-- payment_fee: double (nullable = true)\n",
      " |-- payment_method: string (nullable = true)\n",
      " |-- payment_status: string (nullable = true)\n",
      "\n"
     ]
    }
   ],
   "source": [
    "payments.printSchema()"
   ]
  },
  {
   "cell_type": "code",
   "execution_count": 0,
   "metadata": {
    "application/vnd.databricks.v1+cell": {
     "cellMetadata": {
      "byteLimit": 2048000,
      "rowLimit": 10000
     },
     "inputWidgets": {},
     "nuid": "fbf58a63-b240-429a-b596-dd37f477d118",
     "showTitle": false,
     "title": ""
    }
   },
   "outputs": [
    {
     "name": "stdout",
     "output_type": "stream",
     "text": [
      "Null count in payment_id: 0\n",
      "Null count in payment_order_id: 0\n",
      "Null count in payment_amount: 0\n",
      "Null count in payment_fee: 175\n",
      "Null count in payment_method: 0\n",
      "Null count in payment_status: 0\n",
      "Number of rows in the DataFrame: 400834\n"
     ]
    }
   ],
   "source": [
    "count_nulls(payments)\n",
    "count_rows(payments)"
   ]
  },
  {
   "cell_type": "code",
   "execution_count": 0,
   "metadata": {
    "application/vnd.databricks.v1+cell": {
     "cellMetadata": {
      "byteLimit": 2048000,
      "rowLimit": 10000
     },
     "inputWidgets": {},
     "nuid": "51f76dea-b252-4c1d-8eeb-1c0292b47a7c",
     "showTitle": false,
     "title": ""
    }
   },
   "outputs": [
    {
     "name": "stdout",
     "output_type": "stream",
     "text": [
      "+--------+--------+----------+----------------+-----------------+------------+------------+------------------+-------------------+------------------+--------------------+-----------------+-------------------+------------------+--------------------+---------------------+-------------------+----------------------+--------------------------+-----------------------+----------------------+---------------------+\n",
      "|order_id|store_id|channel_id|payment_order_id|delivery_order_id|order_status|order_amount|order_delivery_fee|order_delivery_cost|order_created_hour|order_created_minute|order_created_day|order_created_month|order_created_year|order_moment_created|order_moment_accepted| order_moment_ready|order_moment_collected|order_moment_in_expedition|order_moment_delivering|order_moment_delivered|order_moment_finished|\n",
      "+--------+--------+----------+----------------+-----------------+------------+------------+------------------+-------------------+------------------+--------------------+-----------------+-------------------+------------------+--------------------+---------------------+-------------------+----------------------+--------------------------+-----------------------+----------------------+---------------------+\n",
      "|68405119|    3512|         5|        68405119|         68405119|    CANCELED|        62.7|               0.0|               null|                 0|                   1|                1|                  1|              2021|1/1/2021 12:01:36 AM|                 null|               null|                  null|                      null|                   null|                  null|                 null|\n",
      "|68405123|    3512|         5|        68405123|         68405123|    CANCELED|        62.7|               0.0|               null|                 0|                   4|                1|                  1|              2021|1/1/2021 12:04:26 AM|                 null|               null|                  null|                      null|                   null|                  null|                 null|\n",
      "|68405206|    3512|         5|        68405206|         68405206|    CANCELED|       115.5|               0.0|               null|                 0|                  13|                1|                  1|              2021|1/1/2021 12:13:07 AM|                 null|               null|                  null|                      null|                   null|                  null|                 null|\n",
      "|68405465|    3401|         5|        68405465|         68405465|    CANCELED|        55.9|               0.0|               null|                 0|                  19|                1|                  1|              2021|1/1/2021 12:19:15 AM|                 null|               null|                  null|                      null|                   null|                  null|                 null|\n",
      "|68406064|    3401|         5|        68406064|         68406064|    CANCELED|        37.9|               0.0|               null|                 0|                  26|                1|                  1|              2021|1/1/2021 12:26:25 AM|                 null|               null|                  null|                      null|                   null|                  null|                 null|\n",
      "|68408108|     786|         5|        68408108|         68408108|    CANCELED|        80.0|               9.9|               null|                 0|                  56|                1|                  1|              2021|1/1/2021 12:56:19 AM|                 null|               null|                  null|                      null|                   null|                  null|                 null|\n",
      "|68408109|    1125|         5|        68408109|         68408109|    CANCELED|        71.0|               9.9|               null|                 0|                  56|                1|                  1|              2021|1/1/2021 12:56:49 AM|                 null|               null|                  null|                      null|                   null|                  null|                 null|\n",
      "|68409030|    1064|        35|        68409030|         68409030|    CANCELED|       214.8|              0.01|                0.0|                 1|                  56|                1|                  1|              2021| 1/1/2021 1:56:42 AM|  1/1/2021 1:57:00 AM|               null|                  null|                      null|                   null|                  null|                 null|\n",
      "|68410055|    2181|        35|        68410055|         68410055|    FINISHED|       394.8|              0.01|                6.0|                 2|                  32|                1|                  1|              2021| 1/1/2021 2:32:51 AM|  1/1/2021 2:33:00 AM|1/2/2021 6:24:06 PM|   1/2/2021 6:30:44 PM|       1/2/2021 6:31:15 PM|    1/2/2021 6:35:49 PM|                  null|  1/2/2021 6:57:34 PM|\n",
      "|68412121|    1152|         5|        68412121|         68412121|    CANCELED|        25.5|               9.9|               null|                13|                  57|                1|                  1|              2021| 1/1/2021 1:57:21 PM|                 null|               null|                  null|                      null|                   null|                  null|                 null|\n",
      "|68412122|     490|         5|        68412122|         68412122|    CANCELED|        30.0|               5.9|               null|                13|                  57|                1|                  1|              2021| 1/1/2021 1:57:21 PM|                 null|               null|                  null|                      null|                   null|                  null|                 null|\n",
      "|68412123|     674|         5|        68412123|         68412123|    CANCELED|        74.5|               5.9|               null|                13|                  57|                1|                  1|              2021| 1/1/2021 1:57:31 PM|                 null|               null|                  null|                      null|                   null|                  null|                 null|\n",
      "|68412131|     490|         5|        68412131|         68412131|    CANCELED|        48.0|               7.9|               null|                13|                  58|                1|                  1|              2021| 1/1/2021 1:58:01 PM|                 null|               null|                  null|                      null|                   null|                  null|                 null|\n",
      "|68412134|     679|         5|        68412134|         68412134|    CANCELED|        34.9|               9.9|               null|                13|                  58|                1|                  1|              2021| 1/1/2021 1:58:32 PM|                 null|               null|                  null|                      null|                   null|                  null|                 null|\n",
      "|68412148|     294|         5|        68412148|         68412148|    CANCELED|        34.0|               6.9|               null|                14|                   2|                1|                  1|              2021| 1/1/2021 2:02:01 PM|                 null|               null|                  null|                      null|                   null|                  null|                 null|\n",
      "|68412322|     294|         5|        68412322|         68412322|    CANCELED|        39.3|               9.9|               null|                14|                   6|                1|                  1|              2021| 1/1/2021 2:06:31 PM|                 null|               null|                  null|                      null|                   null|                  null|                 null|\n",
      "|68412444|     294|         5|        68412444|         68412444|    CANCELED|        41.5|               9.9|               null|                14|                   8|                1|                  1|              2021| 1/1/2021 2:08:11 PM|                 null|               null|                  null|                      null|                   null|                  null|                 null|\n",
      "|68412721|     631|         5|        68412721|         68412721|    FINISHED|      195.05|              11.9|              10.93|                14|                  12|                1|                  1|              2021| 1/1/2021 2:12:11 PM|  1/1/2021 2:12:17 PM|1/1/2021 2:38:15 PM|   1/1/2021 2:38:31 PM|       1/1/2021 2:39:05 PM|    1/1/2021 2:49:18 PM|                  null|  1/1/2021 4:12:36 PM|\n",
      "|68413340|     631|         5|        68413340|         68413340|    FINISHED|        46.9|              11.9|              11.36|                14|                  14|                1|                  1|              2021| 1/1/2021 2:14:51 PM|  1/1/2021 2:15:20 PM|1/1/2021 2:29:28 PM|   1/1/2021 2:36:30 PM|       1/1/2021 2:39:02 PM|    1/1/2021 2:42:08 PM|                  null|  1/1/2021 3:31:54 PM|\n",
      "|68414018|    3265|         5|        68414018|         68414018|    FINISHED|        45.8|               0.0|              10.28|                14|                  17|                1|                  1|              2021| 1/1/2021 2:17:31 PM|  1/1/2021 2:20:59 PM|1/1/2021 2:45:01 PM|   1/1/2021 2:55:14 PM|       1/1/2021 2:55:16 PM|    1/1/2021 2:58:17 PM|                  null|  1/1/2021 3:09:20 PM|\n",
      "+--------+--------+----------+----------------+-----------------+------------+------------+------------------+-------------------+------------------+--------------------+-----------------+-------------------+------------------+--------------------+---------------------+-------------------+----------------------+--------------------------+-----------------------+----------------------+---------------------+\n",
      "only showing top 20 rows\n",
      "\n"
     ]
    }
   ],
   "source": [
    "orders.show()"
   ]
  },
  {
   "cell_type": "code",
   "execution_count": 0,
   "metadata": {
    "application/vnd.databricks.v1+cell": {
     "cellMetadata": {
      "byteLimit": 2048000,
      "rowLimit": 10000
     },
     "inputWidgets": {},
     "nuid": "dde3093d-0225-4e52-8fd8-fd24de1a5549",
     "showTitle": false,
     "title": ""
    }
   },
   "outputs": [
    {
     "name": "stdout",
     "output_type": "stream",
     "text": [
      "root\n",
      " |-- order_id: integer (nullable = true)\n",
      " |-- store_id: integer (nullable = true)\n",
      " |-- channel_id: integer (nullable = true)\n",
      " |-- payment_order_id: integer (nullable = true)\n",
      " |-- delivery_order_id: integer (nullable = true)\n",
      " |-- order_status: string (nullable = true)\n",
      " |-- order_amount: double (nullable = true)\n",
      " |-- order_delivery_fee: double (nullable = true)\n",
      " |-- order_delivery_cost: double (nullable = true)\n",
      " |-- order_created_hour: integer (nullable = true)\n",
      " |-- order_created_minute: integer (nullable = true)\n",
      " |-- order_created_day: integer (nullable = true)\n",
      " |-- order_created_month: integer (nullable = true)\n",
      " |-- order_created_year: integer (nullable = true)\n",
      " |-- order_moment_created: string (nullable = true)\n",
      " |-- order_moment_accepted: string (nullable = true)\n",
      " |-- order_moment_ready: string (nullable = true)\n",
      " |-- order_moment_collected: string (nullable = true)\n",
      " |-- order_moment_in_expedition: string (nullable = true)\n",
      " |-- order_moment_delivering: string (nullable = true)\n",
      " |-- order_moment_delivered: string (nullable = true)\n",
      " |-- order_moment_finished: string (nullable = true)\n",
      "\n"
     ]
    }
   ],
   "source": [
    "orders.printSchema()"
   ]
  },
  {
   "cell_type": "code",
   "execution_count": 0,
   "metadata": {
    "application/vnd.databricks.v1+cell": {
     "cellMetadata": {
      "byteLimit": 2048000,
      "rowLimit": 10000
     },
     "inputWidgets": {},
     "nuid": "4bf97695-a861-4d0e-bd78-80639e819621",
     "showTitle": false,
     "title": ""
    }
   },
   "outputs": [
    {
     "name": "stdout",
     "output_type": "stream",
     "text": [
      "Null count in order_id: 0\n",
      "Null count in store_id: 0\n",
      "Null count in channel_id: 0\n",
      "Null count in payment_order_id: 0\n",
      "Null count in delivery_order_id: 0\n",
      "Null count in order_status: 0\n",
      "Null count in order_amount: 0\n",
      "Null count in order_delivery_fee: 0\n",
      "Null count in order_delivery_cost: 7205\n",
      "Null count in order_created_hour: 0\n",
      "Null count in order_created_minute: 0\n",
      "Null count in order_created_day: 0\n",
      "Null count in order_created_month: 0\n",
      "Null count in order_created_year: 0\n",
      "Null count in order_moment_created: 0\n",
      "Null count in order_moment_accepted: 9461\n",
      "Null count in order_moment_ready: 25106\n",
      "Null count in order_moment_collected: 42894\n",
      "Null count in order_moment_in_expedition: 67429\n",
      "Null count in order_moment_delivering: 25316\n",
      "Null count in order_moment_delivered: 349398\n",
      "Null count in order_moment_finished: 15599\n",
      "Number of rows in the DataFrame: 368999\n"
     ]
    }
   ],
   "source": [
    "count_nulls(orders)\n",
    "count_rows(orders)"
   ]
  },
  {
   "cell_type": "code",
   "execution_count": 0,
   "metadata": {
    "application/vnd.databricks.v1+cell": {
     "cellMetadata": {
      "byteLimit": 2048000,
      "rowLimit": 10000
     },
     "inputWidgets": {},
     "nuid": "43ff9094-a3e3-489c-9336-5c8367f51cda",
     "showTitle": false,
     "title": ""
    }
   },
   "outputs": [
    {
     "name": "stdout",
     "output_type": "stream",
     "text": [
      "Out[62]: ['order_id',\n",
      " 'store_id',\n",
      " 'channel_id',\n",
      " 'payment_order_id',\n",
      " 'delivery_order_id',\n",
      " 'order_status',\n",
      " 'order_amount',\n",
      " 'order_delivery_fee',\n",
      " 'order_delivery_cost',\n",
      " 'order_moment_created',\n",
      " 'order_moment_accepted',\n",
      " 'order_moment_ready',\n",
      " 'order_moment_collected',\n",
      " 'order_moment_in_expedition',\n",
      " 'order_moment_delivering',\n",
      " 'order_moment_delivered',\n",
      " 'order_moment_finished']"
     ]
    }
   ],
   "source": [
    "# List of columns to drop\n",
    "columns_to_drop = ['order_created_hour', 'order_created_minute', 'order_created_day', 'order_created_month', 'order_created_year']\n",
    "\n",
    "# Drop the specified columns\n",
    "orders = orders.drop(*columns_to_drop)\n",
    "\n",
    "# Show the columns after dropping the columns\n",
    "orders.columns\n"
   ]
  },
  {
   "cell_type": "code",
   "execution_count": 0,
   "metadata": {
    "application/vnd.databricks.v1+cell": {
     "cellMetadata": {
      "byteLimit": 2048000,
      "rowLimit": 10000
     },
     "inputWidgets": {},
     "nuid": "b3e0ad88-c3c4-4f74-a1af-a048b4fad32b",
     "showTitle": false,
     "title": ""
    }
   },
   "outputs": [
    {
     "name": "stdout",
     "output_type": "stream",
     "text": [
      "+--------------------+---------------------+-------------------+----------------------+--------------------------+-----------------------+----------------------+---------------------+\n",
      "|order_moment_created|order_moment_accepted| order_moment_ready|order_moment_collected|order_moment_in_expedition|order_moment_delivering|order_moment_delivered|order_moment_finished|\n",
      "+--------------------+---------------------+-------------------+----------------------+--------------------------+-----------------------+----------------------+---------------------+\n",
      "| 2021-01-01 00:01:36|                 null|               null|                  null|                      null|                   null|                  null|                 null|\n",
      "| 2021-01-01 00:04:26|                 null|               null|                  null|                      null|                   null|                  null|                 null|\n",
      "| 2021-01-01 00:13:07|                 null|               null|                  null|                      null|                   null|                  null|                 null|\n",
      "| 2021-01-01 00:19:15|                 null|               null|                  null|                      null|                   null|                  null|                 null|\n",
      "| 2021-01-01 00:26:25|                 null|               null|                  null|                      null|                   null|                  null|                 null|\n",
      "| 2021-01-01 00:56:19|                 null|               null|                  null|                      null|                   null|                  null|                 null|\n",
      "| 2021-01-01 00:56:49|                 null|               null|                  null|                      null|                   null|                  null|                 null|\n",
      "| 2021-01-01 01:56:42|  2021-01-01 01:57:00|               null|                  null|                      null|                   null|                  null|                 null|\n",
      "| 2021-01-01 02:32:51|  2021-01-01 02:33:00|2021-01-02 18:24:06|   2021-01-02 18:30:44|       2021-01-02 18:31:15|    2021-01-02 18:35:49|                  null|  2021-01-02 18:57:34|\n",
      "| 2021-01-01 13:57:21|                 null|               null|                  null|                      null|                   null|                  null|                 null|\n",
      "| 2021-01-01 13:57:21|                 null|               null|                  null|                      null|                   null|                  null|                 null|\n",
      "| 2021-01-01 13:57:31|                 null|               null|                  null|                      null|                   null|                  null|                 null|\n",
      "| 2021-01-01 13:58:01|                 null|               null|                  null|                      null|                   null|                  null|                 null|\n",
      "| 2021-01-01 13:58:32|                 null|               null|                  null|                      null|                   null|                  null|                 null|\n",
      "| 2021-01-01 14:02:01|                 null|               null|                  null|                      null|                   null|                  null|                 null|\n",
      "| 2021-01-01 14:06:31|                 null|               null|                  null|                      null|                   null|                  null|                 null|\n",
      "| 2021-01-01 14:08:11|                 null|               null|                  null|                      null|                   null|                  null|                 null|\n",
      "| 2021-01-01 14:12:11|  2021-01-01 14:12:17|2021-01-01 14:38:15|   2021-01-01 14:38:31|       2021-01-01 14:39:05|    2021-01-01 14:49:18|                  null|  2021-01-01 16:12:36|\n",
      "| 2021-01-01 14:14:51|  2021-01-01 14:15:20|2021-01-01 14:29:28|   2021-01-01 14:36:30|       2021-01-01 14:39:02|    2021-01-01 14:42:08|                  null|  2021-01-01 15:31:54|\n",
      "| 2021-01-01 14:17:31|  2021-01-01 14:20:59|2021-01-01 14:45:01|   2021-01-01 14:55:14|       2021-01-01 14:55:16|    2021-01-01 14:58:17|                  null|  2021-01-01 15:09:20|\n",
      "+--------------------+---------------------+-------------------+----------------------+--------------------------+-----------------------+----------------------+---------------------+\n",
      "only showing top 20 rows\n",
      "\n"
     ]
    }
   ],
   "source": [
    "from pyspark.sql.functions import to_timestamp\n",
    "\n",
    "# Define the columns to convert\n",
    "columns_to_convert = [\n",
    "    \"order_moment_created\",\n",
    "    \"order_moment_accepted\",\n",
    "    \"order_moment_ready\",\n",
    "    \"order_moment_collected\",\n",
    "    \"order_moment_in_expedition\",\n",
    "    \"order_moment_delivering\",\n",
    "    \"order_moment_delivered\",\n",
    "    \"order_moment_finished\"\n",
    "]\n",
    "\n",
    "# Convert the columns to datetime data type\n",
    "for column in columns_to_convert:\n",
    "    orders = orders.withColumn(column, to_timestamp(orders[column], \"M/d/yyyy h:mm:ss a\"))\n",
    "\n",
    "# Show the DataFrame after conversion\n",
    "orders.select(columns_to_convert).show()\n"
   ]
  },
  {
   "cell_type": "code",
   "execution_count": 0,
   "metadata": {
    "application/vnd.databricks.v1+cell": {
     "cellMetadata": {
      "byteLimit": 2048000,
      "rowLimit": 10000
     },
     "inputWidgets": {},
     "nuid": "0f466a11-8a32-4f6f-899c-a0f3df131819",
     "showTitle": false,
     "title": ""
    }
   },
   "outputs": [
    {
     "name": "stdout",
     "output_type": "stream",
     "text": [
      "+---------------------------+\n",
      "|order_metric_collected_time|\n",
      "+---------------------------+\n",
      "|                       null|\n",
      "|                       null|\n",
      "|                       null|\n",
      "|                       null|\n",
      "|                       null|\n",
      "|                       null|\n",
      "|                       null|\n",
      "|                       null|\n",
      "|          6.633333333333334|\n",
      "|                       null|\n",
      "|                       null|\n",
      "|                       null|\n",
      "|                       null|\n",
      "|                       null|\n",
      "|                       null|\n",
      "|                       null|\n",
      "|                       null|\n",
      "|        0.26666666666666666|\n",
      "|          7.033333333333333|\n",
      "|         10.216666666666667|\n",
      "+---------------------------+\n",
      "only showing top 20 rows\n",
      "\n"
     ]
    }
   ],
   "source": [
    "# Calculate order_metric_collected_time in minutes\n",
    "orders = orders.withColumn(\"order_metric_collected_time\", \n",
    "                           (unix_timestamp(col(\"order_moment_collected\")) - unix_timestamp(col(\"order_moment_ready\"))) / 60)\n",
    "\n",
    "orders.select(\"order_metric_collected_time\").show()"
   ]
  },
  {
   "cell_type": "code",
   "execution_count": 0,
   "metadata": {
    "application/vnd.databricks.v1+cell": {
     "cellMetadata": {
      "byteLimit": 2048000,
      "rowLimit": 10000
     },
     "inputWidgets": {},
     "nuid": "b8c05f1b-4858-4ad0-9d5c-4d4db03fa269",
     "showTitle": false,
     "title": ""
    }
   },
   "outputs": [
    {
     "name": "stdout",
     "output_type": "stream",
     "text": [
      "+-----------------------+\n",
      "|order_metric_cycle_time|\n",
      "+-----------------------+\n",
      "|                   null|\n",
      "|                   null|\n",
      "|                   null|\n",
      "|                   null|\n",
      "|                   null|\n",
      "|                   null|\n",
      "|                   null|\n",
      "|                   null|\n",
      "|     2424.7166666666667|\n",
      "|                   null|\n",
      "|                   null|\n",
      "|                   null|\n",
      "|                   null|\n",
      "|                   null|\n",
      "|                   null|\n",
      "|                   null|\n",
      "|                   null|\n",
      "|     120.41666666666667|\n",
      "|                  77.05|\n",
      "|      51.81666666666667|\n",
      "+-----------------------+\n",
      "only showing top 20 rows\n",
      "\n"
     ]
    }
   ],
   "source": [
    "# Calculate order_metric_cycle_time in minutes\n",
    "orders = orders.withColumn(\"order_metric_cycle_time\", \n",
    "                           (unix_timestamp(col(\"order_moment_finished\")) - unix_timestamp(col(\"order_moment_created\"))) / 60)\n",
    "orders.select(\"order_metric_cycle_time\").show()"
   ]
  },
  {
   "cell_type": "code",
   "execution_count": 0,
   "metadata": {
    "application/vnd.databricks.v1+cell": {
     "cellMetadata": {
      "byteLimit": 2048000,
      "rowLimit": 10000
     },
     "inputWidgets": {},
     "nuid": "da03cb3a-4863-4bb2-bd34-3cf56226d937",
     "showTitle": false,
     "title": ""
    }
   },
   "outputs": [],
   "source": [
    "orders = orders.toPandas()\n",
    "channels = channels.toPandas()\n",
    "deliveries = deliveries.toPandas()\n",
    "hubs = hubs.toPandas()\n",
    "payments = payments.toPandas()\n",
    "stores = stores.toPandas()"
   ]
  },
  {
   "cell_type": "code",
   "execution_count": 0,
   "metadata": {
    "application/vnd.databricks.v1+cell": {
     "cellMetadata": {
      "byteLimit": 2048000,
      "rowLimit": 10000
     },
     "inputWidgets": {},
     "nuid": "0f950c37-5a1d-4e3f-a3cb-512a3d3487d5",
     "showTitle": false,
     "title": ""
    }
   },
   "outputs": [],
   "source": [
    "orders.to_csv('/dbfs/mnt/deliverycenterm/transformed-data/orders.csv',index = False)"
   ]
  },
  {
   "cell_type": "code",
   "execution_count": 0,
   "metadata": {
    "application/vnd.databricks.v1+cell": {
     "cellMetadata": {
      "byteLimit": 2048000,
      "rowLimit": 10000
     },
     "inputWidgets": {},
     "nuid": "5ec07720-6346-4792-826c-a123dd73cad3",
     "showTitle": false,
     "title": ""
    }
   },
   "outputs": [],
   "source": [
    "channels.to_csv('/dbfs/mnt/deliverycenterm/transformed-data/channels.csv',index = False)\n",
    "deliveries.to_csv('/dbfs/mnt/deliverycenterm/transformed-data/deliveries.csv',index = False)\n",
    "hubs.to_csv('/dbfs/mnt/deliverycenterm/transformed-data/hubs.csv',index = False)\n",
    "payments.to_csv('/dbfs/mnt/deliverycenterm/transformed-data/payments.csv',index = False)\n",
    "stores.to_csv('/dbfs/mnt/deliverycenterm/transformed-data/stores.csv',index = False)"
   ]
  }
 ],
 "metadata": {
  "application/vnd.databricks.v1+notebook": {
   "dashboards": [],
   "language": "python",
   "notebookMetadata": {
    "mostRecentlyExecutedCommandWithImplicitDF": {
     "commandId": 2875981268813136,
     "dataframes": [
      "_sqldf"
     ]
    },
    "pythonIndentUnit": 4
   },
   "notebookName": "Delivery-Center-Transformation",
   "widgets": {}
  },
  "kernelspec": {
   "display_name": "Python 3 (ipykernel)",
   "language": "python",
   "name": "python3"
  },
  "language_info": {
   "codemirror_mode": {
    "name": "ipython",
    "version": 3
   },
   "file_extension": ".py",
   "mimetype": "text/x-python",
   "name": "python",
   "nbconvert_exporter": "python",
   "pygments_lexer": "ipython3",
   "version": "3.10.9"
  }
 },
 "nbformat": 4,
 "nbformat_minor": 1
}
